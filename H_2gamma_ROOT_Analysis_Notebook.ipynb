{
 "cells": [
  {
   "cell_type": "markdown",
   "metadata": {},
   "source": [
    "In the following Jupyter notebook, we search for the $H \\to \\gamma \\gamma$ decay process by scanning the invariant mass spectrum of many events detected in the Compact Muon Solenoid (CMS) detector. The procedure is essentially the same as what we performed before (please see \"Elementary_Z0_Boson_Search_with_ROOT\" for exposition about ROOT)."
   ]
  },
  {
   "cell_type": "markdown",
   "metadata": {},
   "source": [
    "We first import ROOT as usual. To learn more, please visit: https://root.cern/"
   ]
  },
  {
   "cell_type": "code",
   "execution_count": 1,
   "metadata": {},
   "outputs": [
    {
     "name": "stderr",
     "output_type": "stream",
     "text": [
      "ERROR in cling::CIFactory::createCI(): cannot extract standard library include paths!\n",
      "Invoking:\n",
      "  LC_ALL=C x86_64-conda-linux-gnu-c++   -DNDEBUG -xc++ -E -v /dev/null 2>&1 | sed -n -e '/^.include/,${' -e '/^ \\/.*++/p' -e '}'\n",
      "Results was:\n",
      "With exit code 0\n"
     ]
    },
    {
     "name": "stdout",
     "output_type": "stream",
     "text": [
      "Welcome to JupyROOT 6.24/06\n"
     ]
    }
   ],
   "source": [
    "try:\n",
    "    import ROOT\n",
    "    import time\n",
    "except ImportError as E:\n",
    "    print(f\"Terrible error importing ROOT: {R}\")"
   ]
  },
  {
   "cell_type": "markdown",
   "metadata": {},
   "source": [
    "Next, we obtain the data that we're working with through a hyperlink to a .root file."
   ]
  },
  {
   "cell_type": "code",
   "execution_count": 2,
   "metadata": {},
   "outputs": [],
   "source": [
    "DATA_SOURCE = \"https://atlas-opendata.web.cern.ch/atlas-opendata/samples/2020/GamGam/Data/data_A.GamGam.root\"\n",
    "datafile = ROOT.TFile.Open(DATA_SOURCE)"
   ]
  },
  {
   "cell_type": "markdown",
   "metadata": {},
   "source": [
    "Now, we extract the relevant part of that data."
   ]
  },
  {
   "cell_type": "code",
   "execution_count": 3,
   "metadata": {},
   "outputs": [
    {
     "name": "stdout",
     "output_type": "stream",
     "text": [
      "The tree has 430344 detections.\n"
     ]
    }
   ],
   "source": [
    "tree = datafile.Get(\"mini\")\n",
    "number_of_detections = tree.GetEntries()\n",
    "print(f\"The tree has {number_of_detections if number_of_detections > 50000 else 'not a shocking amount of'} detections.\")"
   ]
  },
  {
   "cell_type": "markdown",
   "metadata": {},
   "source": [
    "We now set up the ROOT Canvas on which we'll draw the histogram."
   ]
  },
  {
   "cell_type": "code",
   "execution_count": 4,
   "metadata": {},
   "outputs": [],
   "source": [
    "CANVAS_HEADER = \"Canvas Header\"\n",
    "CANVAS_WIDTH = 800\n",
    "CANVAS_HEIGHT = 600\n",
    "canvas = ROOT.TCanvas(\"Canvas\", CANVAS_HEADER, CANVAS_WIDTH, CANVAS_HEIGHT)"
   ]
  },
  {
   "cell_type": "markdown",
   "metadata": {},
   "source": [
    "Next, we set up the histogram that we're going to draw on the ROOT Canvas."
   ]
  },
  {
   "cell_type": "code",
   "execution_count": 5,
   "metadata": {},
   "outputs": [
    {
     "name": "stdout",
     "output_type": "stream",
     "text": [
      "Bins represent intervals of 1.0 GeV\n"
     ]
    }
   ],
   "source": [
    "HISTOGRAM_HEADER = \"Higgs_to_Gamma_Gamma\"\n",
    "HISTOGRAM_TITLE = \"Di-Photon Invariant Mass Spectrum\"\n",
    "HISTOGRAM_X_AXIS_LABEL = \"Invariant Mass m_{yy} [GeV]\"\n",
    "HISTOGRAM_Y_AXIS_LABEL = \"Number of Events [N]\"\n",
    "NUMBER_OF_BINS = 70\n",
    "HISTOGRAM_LOWER_BOUND = 100\n",
    "HISTOGRAM_UPPER_BOUND = 170\n",
    "root_histogram = ROOT.TH1F(\n",
    "    HISTOGRAM_TITLE,\n",
    "    f\"{HISTOGRAM_TITLE};{HISTOGRAM_X_AXIS_LABEL};{HISTOGRAM_Y_AXIS_LABEL}\", \n",
    "    NUMBER_OF_BINS, \n",
    "    HISTOGRAM_LOWER_BOUND,\n",
    "    HISTOGRAM_UPPER_BOUND)\n",
    "print(f\"Bins represent intervals of {(HISTOGRAM_UPPER_BOUND - HISTOGRAM_LOWER_BOUND) / NUMBER_OF_BINS} GeV\")"
   ]
  },
  {
   "cell_type": "markdown",
   "metadata": {},
   "source": [
    "Now, we begin the physics analysis. Photons interact with the electromagnetic calorimeter (ECAL) of the CMS detector. What is occurring in the many loops and validation processes below is the choosing and rejecting of detections based on a particular range of $\\textit{pseudorapidity}$ and transverse momentum. Then, we construct the photons' 4-vectors and perform simple addition to reconstruct the particle from which the photons likely came from. Finally, we extract the mass of that particle and add it to the histogram."
   ]
  },
  {
   "cell_type": "code",
   "execution_count": 6,
   "metadata": {},
   "outputs": [
    {
     "name": "stdout",
     "output_type": "stream",
     "text": [
      "Now on iteration 0.\n",
      "Now on iteration 100000.\n",
      "Now on iteration 200000.\n",
      "Now on iteration 300000.\n",
      "Now on iteration 400000.\n",
      "Finished looping in 0 minutes and 16 seconds.\n"
     ]
    }
   ],
   "source": [
    "Photon_1_4_vector = ROOT.TLorentzVector()\n",
    "Photon_2_4_vector = ROOT.TLorentzVector()\n",
    "\n",
    "LOGGING_INTERVAL = 100000\n",
    "\n",
    "for_loop_start_time = time.time()\n",
    "for index, event in enumerate(tree):\n",
    "    if (index % LOGGING_INTERVAL == 0):\n",
    "        print(f\"Now on iteration {index}.\")\n",
    "    if (tree.trigP):\n",
    "        list_of_good_photons_found = [0]*5\n",
    "        number_of_good_photons_in_event = 0\n",
    "        current_photon_index = 0\n",
    "        for j in range(tree.photon_n):\n",
    "            if (tree.photon_isTightID[j]):\n",
    "                if (tree.photon_pt[j] > 25000 and (ROOT.TMath.Abs(tree.photon_eta[j]) < 2.37)\\\n",
    "                   and (ROOT.TMath.Abs(tree.photon_eta[j]) < 1.37 or ROOT.TMath.Abs(tree.photon_eta[j]) > 1.52)):\n",
    "                    number_of_good_photons_in_event += 1\n",
    "                    list_of_good_photons_found[current_photon_index] = j\n",
    "                    current_photon_index += 1\n",
    "        if(number_of_good_photons_in_event == 2):\n",
    "            index_of_good_photon_1 = list_of_good_photons_found[0]\n",
    "            index_of_good_photon_2 = list_of_good_photons_found[1]\n",
    "            if((tree.photon_ptcone30[index_of_good_photon_1]/tree.photon_pt[index_of_good_photon_1] < 0.065)\\\n",
    "               and (tree.photon_etcone20[index_of_good_photon_1] / tree.photon_pt[index_of_good_photon_1] < 0.065)):\n",
    "                if((tree.photon_ptcone30[index_of_good_photon_2]/tree.photon_pt[index_of_good_photon_2] < 0.065)\\\n",
    "                   and (tree.photon_etcone20[index_of_good_photon_2] / tree.photon_pt[index_of_good_photon_2] < 0.065)):\n",
    "                    Photon_1_4_vector.SetPtEtaPhiE(tree.photon_pt[index_of_good_photon_1] / 1000., tree.photon_eta[index_of_good_photon_1],\\\n",
    "                                          tree.photon_phi[index_of_good_photon_1], tree.photon_E[index_of_good_photon_1] / 1000.)\n",
    "                    Photon_2_4_vector.SetPtEtaPhiE(tree.photon_pt[index_of_good_photon_2] / 1000., tree.photon_eta[index_of_good_photon_2],\\\n",
    "                                          tree.photon_phi[index_of_good_photon_2], tree.photon_E[index_of_good_photon_2] / 1000.)\n",
    "                    Reconstructed_Higgs_4_Vector = Photon_1_4_vector + Photon_2_4_vector\n",
    "                    root_histogram.Fill(Reconstructed_Higgs_4_Vector.M())\n",
    "\n",
    "\n",
    "\n",
    "for_loop_end_time = time.time()\n",
    "for_loop_duration = for_loop_end_time - for_loop_start_time\n",
    "print(f\"Finished looping in {int(for_loop_duration / 60)} minutes and {int(for_loop_duration % 60)} seconds.\")"
   ]
  },
  {
   "cell_type": "markdown",
   "metadata": {},
   "source": [
    "Now, let's draw the invariant mass spectrum. We'll first plot the number of events on the $y-$axis on a linear scale and then change it to logarithmic the next time we plot it."
   ]
  },
  {
   "cell_type": "code",
   "execution_count": 7,
   "metadata": {},
   "outputs": [
    {
     "data": {
      "image/png": "[encoded data removed]",
      "text/plain": [
       "<IPython.core.display.Image object>"
      ]
     },
     "metadata": {},
     "output_type": "display_data"
    }
   ],
   "source": [
    "root_histogram.Draw(\"E\")\n",
    "canvas.Draw()"
   ]
  },
  {
   "cell_type": "code",
   "execution_count": 8,
   "metadata": {},
   "outputs": [
    {
     "data": {
      "image/png": "[encoded data removed]",
      "text/plain": [
       "<IPython.core.display.Image object>"
      ]
     },
     "metadata": {},
     "output_type": "display_data"
    }
   ],
   "source": [
    "root_histogram.Draw(\"E\")\n",
    "root_histogram.SetMinimum(10)\n",
    "canvas.SetLogy()\n",
    "canvas.Draw()"
   ]
  }
 ],
 "metadata": {
  "kernelspec": {
   "display_name": "CalVision Env",
   "language": "python",
   "name": "calvision"
  },
  "language_info": {
   "codemirror_mode": {
    "name": "ipython",
    "version": 3
   },
   "file_extension": ".py",
   "mimetype": "text/x-python",
   "name": "python",
   "nbconvert_exporter": "python",
   "pygments_lexer": "ipython3",
   "version": "3.9.7"
  }
 },
 "nbformat": 4,
 "nbformat_minor": 4
}
